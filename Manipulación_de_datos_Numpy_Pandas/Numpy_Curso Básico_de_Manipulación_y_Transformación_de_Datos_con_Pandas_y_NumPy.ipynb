{
 "cells": [
  {
   "cell_type": "markdown",
   "id": "bdbd5447",
   "metadata": {},
   "source": [
    "## ¿Por qué NumPy y Pandas?\n",
    "\n",
    "### ¿Por qué NumPy?\n",
    "Es una librería enfocada al cálculo númerico y manejo de Arrays.\n",
    "\n",
    "Es muy veloz, hasta 50 veces más rápido que usar una lista de Python o C.\n",
    "Optimiza el almacenamiento en memoria.\n",
    "Además, maneja distintos tipos de datos.\n",
    "Es una librería muy poderosa, se pueden crear redes neuronales desde cero.\n",
    "\n",
    "### ¿Por qué Pandas?\n",
    "Pandas está enfocada a la manipulación y análisis de datos.\n",
    "\n",
    "Al estar construido sobre NumPy es muy veloz.\n",
    "Requiere poco código para manipular los datos.\n",
    "Soporta múltiples formatos de archivos.\n",
    "Ordena los datos en una alineación inteligente.\n",
    "Se pueden manejar grandes cantidades de datos, hacer analítica y crear dahsboards.\n",
    "\n",
    "La forma de importar estas librerías es de la siguiente manera:\n",
    "\n"
   ]
  },
  {
   "cell_type": "code",
   "execution_count": 2,
   "id": "0158be99",
   "metadata": {},
   "outputs": [],
   "source": [
    "import numpy as np\n",
    "import pandas as pd"
   ]
  },
  {
   "cell_type": "markdown",
   "id": "22667293",
   "metadata": {},
   "source": [
    "### Construcción de arrays con NumPy\n",
    "\n",
    "El array es el principal objeto de la librería NumPy. Representa datos de manera estructurada y se puede acceder a ellos a traves del índice, ya sea a un dato específico o un grupo de muchos datos específicos.\n",
    "Un array se puede crear a partir de una lista de datos o de una matriz:"
   ]
  },
  {
   "cell_type": "code",
   "execution_count": 2,
   "id": "f113e84d",
   "metadata": {},
   "outputs": [
    {
     "data": {
      "text/plain": [
       "[1, 2, 3, 4, 5, 6, 7]"
      ]
     },
     "execution_count": 2,
     "metadata": {},
     "output_type": "execute_result"
    }
   ],
   "source": [
    "lista = [1, 2, 3, 4, 5, 6, 7]\n",
    "lista"
   ]
  },
  {
   "cell_type": "code",
   "execution_count": 3,
   "id": "402d1b0b",
   "metadata": {},
   "outputs": [
    {
     "data": {
      "text/plain": [
       "array([1, 2, 3, 4, 5, 6, 7])"
      ]
     },
     "execution_count": 3,
     "metadata": {},
     "output_type": "execute_result"
    }
   ],
   "source": [
    "array_lista = np.array(lista)\n",
    "array_lista"
   ]
  },
  {
   "cell_type": "code",
   "execution_count": 4,
   "id": "07f35eff",
   "metadata": {},
   "outputs": [
    {
     "data": {
      "text/plain": [
       "[[1, 2, 3], [4, 5, 6], [7, 8, 9]]"
      ]
     },
     "execution_count": 4,
     "metadata": {},
     "output_type": "execute_result"
    }
   ],
   "source": [
    "#Matriz de 3 dimensiones\n",
    "matriz = [[1, 2, 3], [4, 5, 6], [7, 8, 9]]\n",
    "matriz"
   ]
  },
  {
   "cell_type": "code",
   "execution_count": 5,
   "id": "fd97d601",
   "metadata": {},
   "outputs": [
    {
     "data": {
      "text/plain": [
       "array([[1, 2, 3],\n",
       "       [4, 5, 6],\n",
       "       [7, 8, 9]])"
      ]
     },
     "execution_count": 5,
     "metadata": {},
     "output_type": "execute_result"
    }
   ],
   "source": [
    "array_matriz = np.array(matriz)\n",
    "array_matriz"
   ]
  },
  {
   "cell_type": "markdown",
   "id": "e041c180",
   "metadata": {},
   "source": [
    "#### Indexing. \n",
    "Me permite acceder a los elementos de un array por su posición y hacerlos operables."
   ]
  },
  {
   "cell_type": "code",
   "execution_count": 6,
   "id": "c378d298",
   "metadata": {},
   "outputs": [
    {
     "data": {
      "text/plain": [
       "1"
      ]
     },
     "execution_count": 6,
     "metadata": {},
     "output_type": "execute_result"
    }
   ],
   "source": [
    "array_lista[0] #me arroja el primer elemento de la lista"
   ]
  },
  {
   "cell_type": "code",
   "execution_count": 7,
   "id": "bf7cc4e2",
   "metadata": {},
   "outputs": [
    {
     "data": {
      "text/plain": [
       "array([1, 2, 3])"
      ]
     },
     "execution_count": 7,
     "metadata": {},
     "output_type": "execute_result"
    }
   ],
   "source": [
    "array_matriz[0] #me arroja el primer elemento de la matriz que sería la primer fila"
   ]
  },
  {
   "cell_type": "code",
   "execution_count": 8,
   "id": "0a70cd1b",
   "metadata": {},
   "outputs": [
    {
     "data": {
      "text/plain": [
       "5"
      ]
     },
     "execution_count": 8,
     "metadata": {},
     "output_type": "execute_result"
    }
   ],
   "source": [
    "array_lista[1] + array_lista[2] #accedí a los elementos con índice  1 y 2 de la lista (2do y 3er elemento) y los sumé"
   ]
  },
  {
   "cell_type": "code",
   "execution_count": 9,
   "id": "a07186b6",
   "metadata": {},
   "outputs": [
    {
     "data": {
      "text/plain": [
       "array([ 8, 10, 12])"
      ]
     },
     "execution_count": 9,
     "metadata": {},
     "output_type": "execute_result"
    }
   ],
   "source": [
    "array_matriz[1] *2 #accedí al elemento con índice 1 de la matriz (2do elememento) y multipliqué todos sus componenetes por 2"
   ]
  },
  {
   "cell_type": "code",
   "execution_count": 10,
   "id": "84268d7a",
   "metadata": {},
   "outputs": [
    {
     "data": {
      "text/plain": [
       "array([[1, 2, 3],\n",
       "       [4, 5, 6],\n",
       "       [7, 8, 9]])"
      ]
     },
     "execution_count": 10,
     "metadata": {},
     "output_type": "execute_result"
    }
   ],
   "source": [
    "array_matriz"
   ]
  },
  {
   "cell_type": "code",
   "execution_count": 11,
   "id": "9d7df2e7",
   "metadata": {},
   "outputs": [
    {
     "data": {
      "text/plain": [
       "6"
      ]
     },
     "execution_count": 11,
     "metadata": {},
     "output_type": "execute_result"
    }
   ],
   "source": [
    "array_matriz[1,2] #accedí al elemento con índice 1 de la matriz (2do elememento) y a la columna de índice 2 (tercer columna) \n",
    "#de manera que [1,2] me estaría inidicando los índices a nivel de fila y de columna respectivamente"
   ]
  },
  {
   "cell_type": "markdown",
   "id": "f9b2e767",
   "metadata": {},
   "source": [
    "#### Slicing.\n",
    "Nos permite extraer varios datos, indicando el comienzo (start) y el final (stop) (separados por :) desde donde voy a extraerlos ya sea de una lista o de una matriz.\n",
    "También puedo obtener elementos no consecutivos utilizando step, si step es de uno en uno puedo omitirlo\n",
    "array[start : stop : step]"
   ]
  },
  {
   "cell_type": "code",
   "execution_count": 12,
   "id": "fc9f6bbd",
   "metadata": {},
   "outputs": [
    {
     "data": {
      "text/plain": [
       "array([1, 2, 3, 4, 5, 6, 7])"
      ]
     },
     "execution_count": 12,
     "metadata": {},
     "output_type": "execute_result"
    }
   ],
   "source": [
    "array_lista"
   ]
  },
  {
   "cell_type": "code",
   "execution_count": 13,
   "id": "9a647448",
   "metadata": {},
   "outputs": [
    {
     "data": {
      "text/plain": [
       "array([1, 2, 3])"
      ]
     },
     "execution_count": 13,
     "metadata": {},
     "output_type": "execute_result"
    }
   ],
   "source": [
    "array_lista[0:3] #me permite extraer del array lista los elementos con índice de 0 a 2 (el 3 no está incluido en el rango de valores)"
   ]
  },
  {
   "cell_type": "code",
   "execution_count": 14,
   "id": "22cd1111",
   "metadata": {},
   "outputs": [
    {
     "data": {
      "text/plain": [
       "array([1, 3])"
      ]
     },
     "execution_count": 14,
     "metadata": {},
     "output_type": "execute_result"
    }
   ],
   "source": [
    "array_lista[0:3:2]"
   ]
  },
  {
   "cell_type": "code",
   "execution_count": 15,
   "id": "4fb7ede9",
   "metadata": {},
   "outputs": [
    {
     "data": {
      "text/plain": [
       "array([5, 6, 7])"
      ]
     },
     "execution_count": 15,
     "metadata": {},
     "output_type": "execute_result"
    }
   ],
   "source": [
    "#los valores negativos me permiten acceder al array contando desde el final, la primera posición del index desde el final es -1\n",
    "array_lista[-3:]"
   ]
  },
  {
   "cell_type": "code",
   "execution_count": 16,
   "id": "5d60d235",
   "metadata": {},
   "outputs": [
    {
     "data": {
      "text/plain": [
       "array([[1, 2, 3],\n",
       "       [4, 5, 6]])"
      ]
     },
     "execution_count": 16,
     "metadata": {},
     "output_type": "execute_result"
    }
   ],
   "source": [
    "array_matriz[0:2] "
   ]
  },
  {
   "cell_type": "code",
   "execution_count": 17,
   "id": "20cc7020",
   "metadata": {},
   "outputs": [
    {
     "data": {
      "text/plain": [
       "array([[2],\n",
       "       [5]])"
      ]
     },
     "execution_count": 17,
     "metadata": {},
     "output_type": "execute_result"
    }
   ],
   "source": [
    "array_matriz[0:2,1:2] #acá especifico los elementos que quiero que me devuelva a nivel de fila y de columna"
   ]
  },
  {
   "cell_type": "code",
   "execution_count": 18,
   "id": "42b0cf60",
   "metadata": {},
   "outputs": [
    {
     "data": {
      "text/plain": [
       "array([[2, 3],\n",
       "       [5, 6]])"
      ]
     },
     "execution_count": 18,
     "metadata": {},
     "output_type": "execute_result"
    }
   ],
   "source": [
    "array_matriz[0:2,1:3]"
   ]
  },
  {
   "cell_type": "markdown",
   "id": "4dba44cc",
   "metadata": {},
   "source": [
    "#### Tipo de datos de un array\n",
    "El array de NumPy sólo puede tener un único tipo de datos para poder operar sobre ellos"
   ]
  },
  {
   "cell_type": "code",
   "execution_count": 19,
   "id": "60ce8f8c",
   "metadata": {},
   "outputs": [
    {
     "data": {
      "text/plain": [
       "dtype('int32')"
      ]
     },
     "execution_count": 19,
     "metadata": {},
     "output_type": "execute_result"
    }
   ],
   "source": [
    "array_lista.dtype #verifico el tipo de datos de un array"
   ]
  },
  {
   "cell_type": "code",
   "execution_count": 20,
   "id": "6d3369a2",
   "metadata": {},
   "outputs": [
    {
     "data": {
      "text/plain": [
       "array([1., 2., 3., 4., 5., 6., 7.])"
      ]
     },
     "execution_count": 20,
     "metadata": {},
     "output_type": "execute_result"
    }
   ],
   "source": [
    "#si quisiera construir una lista pero con tipo de datos float (este tipo de datos se usa para realizar redes neuronales con tensor flow)\n",
    "#aclaro el dtype cuando construyo el array\n",
    "array_lista_float = np.array([1, 2, 3, 4, 5, 6, 7], dtype= \"float64\") \n",
    "array_lista_float"
   ]
  },
  {
   "cell_type": "code",
   "execution_count": 21,
   "id": "17a7ae8f",
   "metadata": {},
   "outputs": [
    {
     "data": {
      "text/plain": [
       "array([1., 2., 3., 4., 5., 6., 7.])"
      ]
     },
     "execution_count": 21,
     "metadata": {},
     "output_type": "execute_result"
    }
   ],
   "source": [
    "array_lista.astype(np.float64) #de esta manera puedo obtener el array con datos float, tb podria hacerlo con string_ y bool_ o int8\n",
    "#esta operación no cambia el tipo de datos del objeto array_lista original que era de tipo int32"
   ]
  },
  {
   "cell_type": "code",
   "execution_count": 22,
   "id": "47eda54d",
   "metadata": {},
   "outputs": [
    {
     "data": {
      "text/plain": [
       "array([1, 2, 3, 4, 5, 6, 7])"
      ]
     },
     "execution_count": 22,
     "metadata": {},
     "output_type": "execute_result"
    }
   ],
   "source": [
    "array_lista"
   ]
  },
  {
   "attachments": {
    "image.png": {
     "image/png": "[encoded data removed]"
    }
   },
   "cell_type": "markdown",
   "id": "198ae64c",
   "metadata": {},
   "source": [
    "### Dimensiones\n",
    "\n",
    "![image.png](attachment:image.png)\n"
   ]
  },
  {
   "cell_type": "markdown",
   "id": "ffa1b575",
   "metadata": {},
   "source": [
    "scalar: dim = 0 Un solo dato o valor"
   ]
  },
  {
   "cell_type": "code",
   "execution_count": 23,
   "id": "7add3234",
   "metadata": {},
   "outputs": [
    {
     "name": "stdout",
     "output_type": "stream",
     "text": [
      "25\n"
     ]
    },
    {
     "data": {
      "text/plain": [
       "0"
      ]
     },
     "execution_count": 23,
     "metadata": {},
     "output_type": "execute_result"
    }
   ],
   "source": [
    "scalar = np.array(25)\n",
    "print(scalar)\n",
    "scalar.ndim #me permite saber el número de dimensiones del array"
   ]
  },
  {
   "cell_type": "markdown",
   "id": "8b87f819",
   "metadata": {},
   "source": [
    "vector: dim = 1 Listas de Python"
   ]
  },
  {
   "cell_type": "code",
   "execution_count": 24,
   "id": "a1ffaaf7",
   "metadata": {},
   "outputs": [
    {
     "name": "stdout",
     "output_type": "stream",
     "text": [
      "[1 2 3 4 5]\n"
     ]
    },
    {
     "data": {
      "text/plain": [
       "1"
      ]
     },
     "execution_count": 24,
     "metadata": {},
     "output_type": "execute_result"
    }
   ],
   "source": [
    "vector = np.array([1, 2, 3, 4, 5])\n",
    "print(vector)\n",
    "vector.ndim"
   ]
  },
  {
   "attachments": {
    "image.png": {
     "image/png": "[encoded data removed]"
    }
   },
   "cell_type": "markdown",
   "id": "7f3f917c",
   "metadata": {},
   "source": [
    "matriz: dim = 2 Hoja de cálculo. Las filas son ejemplos y las columnas son caracteristicas\n",
    "\n",
    "![image.png](attachment:image.png)\n",
    "\n"
   ]
  },
  {
   "cell_type": "code",
   "execution_count": 25,
   "id": "e8c6e882",
   "metadata": {},
   "outputs": [
    {
     "name": "stdout",
     "output_type": "stream",
     "text": [
      "[[1 2 3]\n",
      " [4 5 6]\n",
      " [7 8 9]]\n"
     ]
    },
    {
     "data": {
      "text/plain": [
       "2"
      ]
     },
     "execution_count": 25,
     "metadata": {},
     "output_type": "execute_result"
    }
   ],
   "source": [
    "matriz = np.array([[1, 2, 3], [4, 5, 6], [7, 8, 9]])\n",
    "print(matriz)\n",
    "matriz.ndim"
   ]
  },
  {
   "attachments": {
    "image-2.png": {
     "image/png": "[encoded data removed]"
    }
   },
   "cell_type": "markdown",
   "id": "a5cf56f5",
   "metadata": {},
   "source": [
    "tensor: dim > 3 Series de tiempo o Imágenes. Tengo ejemplos, características y su comportamiento a través del tiempo.\n",
    "![image-2.png](attachment:image-2.png)\n"
   ]
  },
  {
   "cell_type": "code",
   "execution_count": 26,
   "id": "8df701fd",
   "metadata": {},
   "outputs": [
    {
     "name": "stdout",
     "output_type": "stream",
     "text": [
      "[[[1 2 3]\n",
      "  [4 5 6]\n",
      "  [7 8 9]]\n",
      "\n",
      " [[1 2 3]\n",
      "  [4 5 6]\n",
      "  [7 8 9]]]\n"
     ]
    },
    {
     "data": {
      "text/plain": [
       "3"
      ]
     },
     "execution_count": 26,
     "metadata": {},
     "output_type": "execute_result"
    }
   ],
   "source": [
    "tensor = np.array([[[1, 2, 3], [4, 5, 6], [7, 8, 9]], [[1, 2, 3], [4, 5, 6], [7, 8, 9]]])\n",
    "print(tensor)\n",
    "tensor.ndim"
   ]
  },
  {
   "attachments": {
    "image.png": {
     "image/png": "[encoded data removed]"
    }
   },
   "cell_type": "markdown",
   "id": "47b54c7a",
   "metadata": {},
   "source": [
    "![image.png](attachment:image.png)"
   ]
  },
  {
   "cell_type": "code",
   "execution_count": 29,
   "id": "2c86977f",
   "metadata": {},
   "outputs": [
    {
     "name": "stdout",
     "output_type": "stream",
     "text": [
      "[[[[1 2 3]\n",
      "   [4 5 6]\n",
      "   [7 8 9]]\n",
      "\n",
      "  [[1 2 3]\n",
      "   [4 5 6]\n",
      "   [7 8 9]]\n",
      "\n",
      "  [[1 2 3]\n",
      "   [4 5 6]\n",
      "   [7 8 9]]]]\n"
     ]
    },
    {
     "data": {
      "text/plain": [
       "4"
      ]
     },
     "execution_count": 29,
     "metadata": {},
     "output_type": "execute_result"
    }
   ],
   "source": [
    "tensor_4d = np.array([[[[1, 2, 3], [4, 5, 6], [7, 8, 9]], [[1, 2, 3], [4, 5, 6], [7, 8, 9]], [[1, 2, 3], [4, 5, 6], [7, 8, 9]]]])\n",
    "print(tensor_4d)\n",
    "tensor_4d.ndim"
   ]
  },
  {
   "cell_type": "markdown",
   "id": "78d43e4f",
   "metadata": {},
   "source": [
    "#### Agregar o eliminar dimensiones "
   ]
  },
  {
   "cell_type": "code",
   "execution_count": 32,
   "id": "e40690f0",
   "metadata": {},
   "outputs": [
    {
     "name": "stdout",
     "output_type": "stream",
     "text": [
      "[[[[[[[[[[1 2 3 4 5]]]]]]]]]]\n"
     ]
    },
    {
     "data": {
      "text/plain": [
       "10"
      ]
     },
     "execution_count": 32,
     "metadata": {},
     "output_type": "execute_result"
    }
   ],
   "source": [
    "vector_10 = np.array([1, 2, 3, 4, 5], ndmin = 10) #con ndmin especifico el número de dimensiones que quiero en este caso 10\n",
    "print(vector_10)\n",
    "vector_10.ndim"
   ]
  },
  {
   "cell_type": "code",
   "execution_count": 33,
   "id": "6fbf388f",
   "metadata": {},
   "outputs": [
    {
     "name": "stdout",
     "output_type": "stream",
     "text": [
      "[[[[[[[[[[1 2 3]\n",
      "         [4 5 6]\n",
      "         [7 8 9]]]]]]]]]]\n"
     ]
    },
    {
     "data": {
      "text/plain": [
       "10"
      ]
     },
     "execution_count": 33,
     "metadata": {},
     "output_type": "execute_result"
    }
   ],
   "source": [
    "tensor_10 = np.array([[1, 2, 3], [4, 5, 6], [7, 8, 9]], ndmin = 10)\n",
    "print(tensor_10)\n",
    "tensor_10.ndim"
   ]
  },
  {
   "cell_type": "code",
   "execution_count": 35,
   "id": "de9af522",
   "metadata": {},
   "outputs": [
    {
     "data": {
      "text/plain": [
       "3"
      ]
     },
     "execution_count": 35,
     "metadata": {},
     "output_type": "execute_result"
    }
   ],
   "source": [
    "# otra opcion es dado un array de n dimensiones expandir el número de dimensiones en n+1\n",
    "#axis=0 significa que voy a expandir una dimensión a nivel de filas\n",
    "expand = np.expand_dims(np.array([[1, 2, 3], [4, 5, 6], [7, 8, 9]],), axis = 0) \n",
    "expand.ndim"
   ]
  },
  {
   "cell_type": "code",
   "execution_count": 36,
   "id": "bc2ebe60",
   "metadata": {},
   "outputs": [
    {
     "name": "stdout",
     "output_type": "stream",
     "text": [
      "[[[[[[[[[[1 2 3 4 5]]]]]]]]]] 10\n",
      "[1 2 3 4 5] 1\n"
     ]
    }
   ],
   "source": [
    "#para eliminar dimensiones \n",
    "#la librería squeeze comprime al menor número de dimensiones\n",
    "\n",
    "print(vector_10, vector_10.ndim)\n",
    "vector_10_reducido = np.squeeze(vector_10)\n",
    "print(vector_10_reducido, vector_10_reducido.ndim)"
   ]
  },
  {
   "cell_type": "markdown",
   "id": "ba3101bc",
   "metadata": {},
   "source": [
    "#reto\n",
    "\n",
    "definir un tensor de al menos 5D sumarle una dimensión en al menos alguno de sus ejes y eliminar las dimensiones que no se estén usando"
   ]
  },
  {
   "cell_type": "code",
   "execution_count": 37,
   "id": "502eb622",
   "metadata": {},
   "outputs": [
    {
     "name": "stdout",
     "output_type": "stream",
     "text": [
      "[[[[[ 1  3  5  7 11 13]]]]] 5\n"
     ]
    }
   ],
   "source": [
    "tensor_5D = np.array([1,3,5,7,11,13], ndmin = 5)\n",
    "print(tensor_5D, tensor_5D.ndim)"
   ]
  },
  {
   "cell_type": "code",
   "execution_count": 40,
   "id": "10ede2c4",
   "metadata": {},
   "outputs": [
    {
     "name": "stdout",
     "output_type": "stream",
     "text": [
      "[[[[[[ 1  3  5  7 11 13]]]]]] 6\n"
     ]
    }
   ],
   "source": [
    "tensor_6D = np.expand_dims(np.array(tensor_5D), axis = 0)\n",
    "print(tensor_6D, tensor_6D.ndim)"
   ]
  },
  {
   "cell_type": "code",
   "execution_count": 41,
   "id": "35387891",
   "metadata": {},
   "outputs": [
    {
     "name": "stdout",
     "output_type": "stream",
     "text": [
      "[ 1  3  5  7 11 13] 1\n"
     ]
    }
   ],
   "source": [
    "tensor_reduced = np.squeeze(tensor_5D)\n",
    "print(tensor_reduced, tensor_reduced.ndim)"
   ]
  },
  {
   "cell_type": "code",
   "execution_count": 1,
   "id": "37161f58",
   "metadata": {},
   "outputs": [
    {
     "data": {
      "text/plain": [
       "[0, 1, 2, 3, 4, 5, 6, 7, 8, 9]"
      ]
     },
     "execution_count": 1,
     "metadata": {},
     "output_type": "execute_result"
    }
   ],
   "source": [
    "#creando arrays\n",
    "\n",
    "list(range(0,10)) #creo una lista, esto no es un array"
   ]
  },
  {
   "cell_type": "code",
   "execution_count": 4,
   "id": "8d6974d9",
   "metadata": {},
   "outputs": [
    {
     "data": {
      "text/plain": [
       "array([0, 1, 2, 3, 4, 5, 6, 7, 8, 9])"
      ]
     },
     "execution_count": 4,
     "metadata": {},
     "output_type": "execute_result"
    }
   ],
   "source": [
    "np.arange(0,10) #esto sí me crea un array en el rango de 0 a 10"
   ]
  },
  {
   "cell_type": "code",
   "execution_count": 5,
   "id": "ed414509",
   "metadata": {},
   "outputs": [
    {
     "data": {
      "text/plain": [
       "array([ 0,  2,  4,  6,  8, 10, 12, 14, 16, 18])"
      ]
     },
     "execution_count": 5,
     "metadata": {},
     "output_type": "execute_result"
    }
   ],
   "source": [
    "np.arange(0,20,2) #(start, stop, step)"
   ]
  },
  {
   "cell_type": "code",
   "execution_count": 6,
   "id": "6808ec37",
   "metadata": {},
   "outputs": [
    {
     "data": {
      "text/plain": [
       "array([0., 0., 0., 0., 0., 0., 0., 0., 0., 0.])"
      ]
     },
     "execution_count": 6,
     "metadata": {},
     "output_type": "execute_result"
    }
   ],
   "source": [
    "np.zeros(10) #se crea un array de ceros"
   ]
  },
  {
   "cell_type": "code",
   "execution_count": 7,
   "id": "db062ddb",
   "metadata": {},
   "outputs": [
    {
     "data": {
      "text/plain": [
       "array([[0., 0., 0., 0., 0., 0., 0., 0., 0., 0.],\n",
       "       [0., 0., 0., 0., 0., 0., 0., 0., 0., 0.],\n",
       "       [0., 0., 0., 0., 0., 0., 0., 0., 0., 0.],\n",
       "       [0., 0., 0., 0., 0., 0., 0., 0., 0., 0.],\n",
       "       [0., 0., 0., 0., 0., 0., 0., 0., 0., 0.],\n",
       "       [0., 0., 0., 0., 0., 0., 0., 0., 0., 0.],\n",
       "       [0., 0., 0., 0., 0., 0., 0., 0., 0., 0.],\n",
       "       [0., 0., 0., 0., 0., 0., 0., 0., 0., 0.],\n",
       "       [0., 0., 0., 0., 0., 0., 0., 0., 0., 0.],\n",
       "       [0., 0., 0., 0., 0., 0., 0., 0., 0., 0.]])"
      ]
     },
     "execution_count": 7,
     "metadata": {},
     "output_type": "execute_result"
    }
   ],
   "source": [
    "np.zeros((10,10)) #esto es muy útil en la creación de estructuras de base si ya conozco de antemano las dimensiones "
   ]
  },
  {
   "cell_type": "code",
   "execution_count": 8,
   "id": "7b1ef061",
   "metadata": {},
   "outputs": [
    {
     "data": {
      "text/plain": [
       "array([[1., 1., 1., 1., 1.],\n",
       "       [1., 1., 1., 1., 1.],\n",
       "       [1., 1., 1., 1., 1.],\n",
       "       [1., 1., 1., 1., 1.],\n",
       "       [1., 1., 1., 1., 1.],\n",
       "       [1., 1., 1., 1., 1.],\n",
       "       [1., 1., 1., 1., 1.],\n",
       "       [1., 1., 1., 1., 1.],\n",
       "       [1., 1., 1., 1., 1.],\n",
       "       [1., 1., 1., 1., 1.]])"
      ]
     },
     "execution_count": 8,
     "metadata": {},
     "output_type": "execute_result"
    }
   ],
   "source": [
    "np.ones((10,5))"
   ]
  },
  {
   "cell_type": "code",
   "execution_count": 9,
   "id": "f06bde87",
   "metadata": {},
   "outputs": [
    {
     "data": {
      "text/plain": [
       "array([ 0.        ,  0.1010101 ,  0.2020202 ,  0.3030303 ,  0.4040404 ,\n",
       "        0.50505051,  0.60606061,  0.70707071,  0.80808081,  0.90909091,\n",
       "        1.01010101,  1.11111111,  1.21212121,  1.31313131,  1.41414141,\n",
       "        1.51515152,  1.61616162,  1.71717172,  1.81818182,  1.91919192,\n",
       "        2.02020202,  2.12121212,  2.22222222,  2.32323232,  2.42424242,\n",
       "        2.52525253,  2.62626263,  2.72727273,  2.82828283,  2.92929293,\n",
       "        3.03030303,  3.13131313,  3.23232323,  3.33333333,  3.43434343,\n",
       "        3.53535354,  3.63636364,  3.73737374,  3.83838384,  3.93939394,\n",
       "        4.04040404,  4.14141414,  4.24242424,  4.34343434,  4.44444444,\n",
       "        4.54545455,  4.64646465,  4.74747475,  4.84848485,  4.94949495,\n",
       "        5.05050505,  5.15151515,  5.25252525,  5.35353535,  5.45454545,\n",
       "        5.55555556,  5.65656566,  5.75757576,  5.85858586,  5.95959596,\n",
       "        6.06060606,  6.16161616,  6.26262626,  6.36363636,  6.46464646,\n",
       "        6.56565657,  6.66666667,  6.76767677,  6.86868687,  6.96969697,\n",
       "        7.07070707,  7.17171717,  7.27272727,  7.37373737,  7.47474747,\n",
       "        7.57575758,  7.67676768,  7.77777778,  7.87878788,  7.97979798,\n",
       "        8.08080808,  8.18181818,  8.28282828,  8.38383838,  8.48484848,\n",
       "        8.58585859,  8.68686869,  8.78787879,  8.88888889,  8.98989899,\n",
       "        9.09090909,  9.19191919,  9.29292929,  9.39393939,  9.49494949,\n",
       "        9.5959596 ,  9.6969697 ,  9.7979798 ,  9.8989899 , 10.        ])"
      ]
     },
     "execution_count": 9,
     "metadata": {},
     "output_type": "execute_result"
    }
   ],
   "source": [
    "np.linspace(0,10,100) #se crea una distribución de 100 datos que va desde 0 a 10."
   ]
  },
  {
   "cell_type": "code",
   "execution_count": 10,
   "id": "cc88dd89",
   "metadata": {},
   "outputs": [
    {
     "data": {
      "text/plain": [
       "array([[1., 0., 0., 0.],\n",
       "       [0., 1., 0., 0.],\n",
       "       [0., 0., 1., 0.],\n",
       "       [0., 0., 0., 1.]])"
      ]
     },
     "execution_count": 10,
     "metadata": {},
     "output_type": "execute_result"
    }
   ],
   "source": [
    "np.eye(4) #me crea una matriz con la diagonal principal con 1 y el resto de los valores 0"
   ]
  },
  {
   "cell_type": "code",
   "execution_count": 11,
   "id": "3558822e",
   "metadata": {},
   "outputs": [
    {
     "data": {
      "text/plain": [
       "0.9589582880273471"
      ]
     },
     "execution_count": 11,
     "metadata": {},
     "output_type": "execute_result"
    }
   ],
   "source": [
    "np.random.rand() #me genera un valor aleatorio entre 0 y 1"
   ]
  },
  {
   "cell_type": "code",
   "execution_count": 12,
   "id": "91886457",
   "metadata": {},
   "outputs": [
    {
     "data": {
      "text/plain": [
       "array([0.6632957 , 0.30195576, 0.54185227, 0.11217103])"
      ]
     },
     "execution_count": 12,
     "metadata": {},
     "output_type": "execute_result"
    }
   ],
   "source": [
    "np.random.rand(4) #array de 4 valores aleatorios y una unica dimensión"
   ]
  },
  {
   "cell_type": "code",
   "execution_count": 13,
   "id": "f1e50fec",
   "metadata": {},
   "outputs": [
    {
     "data": {
      "text/plain": [
       "array([[0.1406358 , 0.06685659, 0.31339154, 0.44825719],\n",
       "       [0.71052063, 0.38454524, 0.96609924, 0.42606092],\n",
       "       [0.69054316, 0.59020274, 0.07973533, 0.41575499],\n",
       "       [0.52730915, 0.32382066, 0.94543544, 0.5761262 ]])"
      ]
     },
     "execution_count": 13,
     "metadata": {},
     "output_type": "execute_result"
    }
   ],
   "source": [
    "np.random.rand(4,4) #matriz de valores aleatorios"
   ]
  },
  {
   "cell_type": "code",
   "execution_count": 15,
   "id": "af2ab687",
   "metadata": {},
   "outputs": [
    {
     "data": {
      "text/plain": [
       "6"
      ]
     },
     "execution_count": 15,
     "metadata": {},
     "output_type": "execute_result"
    }
   ],
   "source": [
    "np.random.randint(0,10) #se obtienen valores aleatorios enteros entre 0 y 10 no es un array"
   ]
  },
  {
   "cell_type": "code",
   "execution_count": 16,
   "id": "a75e28d5",
   "metadata": {},
   "outputs": [
    {
     "data": {
      "text/plain": [
       "array([[91, 54, 28, 98, 33, 17, 22, 46, 21, 51],\n",
       "       [83, 42, 46, 34, 42, 77, 18, 36, 48, 95],\n",
       "       [46, 32, 31, 57, 79, 99, 37, 91, 76, 59],\n",
       "       [77,  5, 92, 99, 63, 95,  1, 89, 34, 56],\n",
       "       [49, 35, 60, 13, 32, 56,  4,  7, 66, 31],\n",
       "       [11, 73, 14, 60, 19, 59, 76, 20, 42, 18],\n",
       "       [13, 55, 74, 55,  7,  1, 45, 98, 18, 55],\n",
       "       [82,  5, 65, 86, 24, 79, 92, 53, 92, 12],\n",
       "       [69, 61, 78, 58, 85, 49, 88,  3,  9, 71],\n",
       "       [91, 23, 26, 74, 90, 44, 71,  2, 32, 60]])"
      ]
     },
     "execution_count": 16,
     "metadata": {},
     "output_type": "execute_result"
    }
   ],
   "source": [
    " np.random.randint(1,100, (10,10)) #obtengo valores aleatorios enterops de 1 a 100 en una estructura de 10 x 10, esto sí es un array"
   ]
  },
  {
   "cell_type": "markdown",
   "id": "3da632c6",
   "metadata": {},
   "source": [
    "Hay 2 funciones muy importantes de los arreglos (Shape y Reshape). La forma de un arreglo nos va a decir con que estructura se está trabajando."
   ]
  },
  {
   "cell_type": "code",
   "execution_count": 5,
   "id": "7d983659",
   "metadata": {},
   "outputs": [
    {
     "name": "stdout",
     "output_type": "stream",
     "text": [
      "[[1 1]\n",
      " [5 2]\n",
      " [4 6]]\n"
     ]
    }
   ],
   "source": [
    "arr = np.random.randint(1,10, (3,2))\n",
    "print(arr)"
   ]
  },
  {
   "cell_type": "code",
   "execution_count": 6,
   "id": "17521690",
   "metadata": {},
   "outputs": [
    {
     "data": {
      "text/plain": [
       "(3, 2)"
      ]
     },
     "execution_count": 6,
     "metadata": {},
     "output_type": "execute_result"
    }
   ],
   "source": [
    "arr.shape #nos da la forma del arreglo, 3 filas y 2 columnas"
   ]
  },
  {
   "cell_type": "code",
   "execution_count": 7,
   "id": "ab075be9",
   "metadata": {},
   "outputs": [
    {
     "data": {
      "text/plain": [
       "array([[1, 1, 5, 2, 4, 6]])"
      ]
     },
     "execution_count": 7,
     "metadata": {},
     "output_type": "execute_result"
    }
   ],
   "source": [
    "arr.reshape(1,6) #este comando nos modifica el arreglo original que era de 3x2 a 1x6, \n",
    "#esto se puede hacer siempre y cuando se mantenga se respete el numero original de valores del array que es 6"
   ]
  },
  {
   "cell_type": "code",
   "execution_count": 10,
   "id": "1d9f8aef",
   "metadata": {},
   "outputs": [
    {
     "data": {
      "text/plain": [
       "array([[1, 1, 5],\n",
       "       [2, 4, 6]])"
      ]
     },
     "execution_count": 10,
     "metadata": {},
     "output_type": "execute_result"
    }
   ],
   "source": [
    "arr.reshape(2,3) #modifica de 3x2 a 2x3"
   ]
  },
  {
   "cell_type": "code",
   "execution_count": 13,
   "id": "59820fc2",
   "metadata": {},
   "outputs": [
    {
     "data": {
      "text/plain": [
       "array([[1, 1],\n",
       "       [5, 2],\n",
       "       [4, 6]])"
      ]
     },
     "execution_count": 13,
     "metadata": {},
     "output_type": "execute_result"
    }
   ],
   "source": [
    "arr"
   ]
  },
  {
   "cell_type": "code",
   "execution_count": 11,
   "id": "0b8fc176",
   "metadata": {},
   "outputs": [
    {
     "data": {
      "text/plain": [
       "array([[1, 1, 5],\n",
       "       [2, 4, 6]])"
      ]
     },
     "execution_count": 11,
     "metadata": {},
     "output_type": "execute_result"
    }
   ],
   "source": [
    "np.reshape(arr, (2,3), \"C\") #utilizo el lenguaje C para el reshape, este lenguaje toma los valores del array original siguiendo el orden de las filas"
   ]
  },
  {
   "cell_type": "code",
   "execution_count": 12,
   "id": "d6f51bea",
   "metadata": {},
   "outputs": [
    {
     "data": {
      "text/plain": [
       "array([[1, 4, 2],\n",
       "       [5, 1, 6]])"
      ]
     },
     "execution_count": 12,
     "metadata": {},
     "output_type": "execute_result"
    }
   ],
   "source": [
    "np.reshape(arr, (2,3), \"F\") #utilizo el lenguaje Fortrand para el reshape, este lenguaje toma los valores del array original siguiendo el orden de las columnas"
   ]
  },
  {
   "cell_type": "code",
   "execution_count": 14,
   "id": "4789c5f2",
   "metadata": {},
   "outputs": [
    {
     "data": {
      "text/plain": [
       "array([[1, 1, 5],\n",
       "       [2, 4, 6]])"
      ]
     },
     "execution_count": 14,
     "metadata": {},
     "output_type": "execute_result"
    }
   ],
   "source": [
    "np.reshape(arr, (2,3), \"A\") #hace el reshape según como están optmizados el guardado de datos en memoria de mi computadora (me da igual que con  C)"
   ]
  },
  {
   "cell_type": "markdown",
   "id": "1f8d3149",
   "metadata": {},
   "source": [
    "### Funciones principales de Numpy\n",
    "\n"
   ]
  },
  {
   "cell_type": "code",
   "execution_count": 22,
   "id": "cefda468",
   "metadata": {},
   "outputs": [
    {
     "data": {
      "text/plain": [
       "array([[1, 1],\n",
       "       [5, 2],\n",
       "       [4, 6]])"
      ]
     },
     "execution_count": 22,
     "metadata": {},
     "output_type": "execute_result"
    }
   ],
   "source": [
    "arr"
   ]
  },
  {
   "cell_type": "code",
   "execution_count": 15,
   "id": "3d273211",
   "metadata": {},
   "outputs": [
    {
     "data": {
      "text/plain": [
       "6"
      ]
     },
     "execution_count": 15,
     "metadata": {},
     "output_type": "execute_result"
    }
   ],
   "source": [
    "arr.max()"
   ]
  },
  {
   "cell_type": "code",
   "execution_count": 17,
   "id": "1ab0382e",
   "metadata": {},
   "outputs": [
    {
     "name": "stdout",
     "output_type": "stream",
     "text": [
      "[[8 1 9]\n",
      " [3 8 9]\n",
      " [8 3 7]]\n"
     ]
    }
   ],
   "source": [
    "matriz = np.random.randint(1,10, (3,3))\n",
    "print(matriz)"
   ]
  },
  {
   "cell_type": "code",
   "execution_count": 18,
   "id": "ac77b26b",
   "metadata": {},
   "outputs": [
    {
     "data": {
      "text/plain": [
       "9"
      ]
     },
     "execution_count": 18,
     "metadata": {},
     "output_type": "execute_result"
    }
   ],
   "source": [
    "matriz.max() #me da el valor maximo de la matriz"
   ]
  },
  {
   "cell_type": "code",
   "execution_count": 19,
   "id": "a32e5f9b",
   "metadata": {},
   "outputs": [
    {
     "data": {
      "text/plain": [
       "array([9, 9, 8])"
      ]
     },
     "execution_count": 19,
     "metadata": {},
     "output_type": "execute_result"
    }
   ],
   "source": [
    "matriz.max(1) #me otorga el máximo de la matriz por fila"
   ]
  },
  {
   "cell_type": "code",
   "execution_count": 20,
   "id": "423e7203",
   "metadata": {},
   "outputs": [
    {
     "data": {
      "text/plain": [
       "array([8, 8, 9])"
      ]
     },
     "execution_count": 20,
     "metadata": {},
     "output_type": "execute_result"
    }
   ],
   "source": [
    "matriz.max(0) #me otorga el maximo de la matriz por columna"
   ]
  },
  {
   "cell_type": "code",
   "execution_count": 21,
   "id": "d7cfb2b7",
   "metadata": {},
   "outputs": [
    {
     "data": {
      "text/plain": [
       "5"
      ]
     },
     "execution_count": 21,
     "metadata": {},
     "output_type": "execute_result"
    }
   ],
   "source": [
    "arr.argmax() #me da el índice del valor maximo del array"
   ]
  },
  {
   "cell_type": "code",
   "execution_count": 23,
   "id": "87540e42",
   "metadata": {},
   "outputs": [
    {
     "data": {
      "text/plain": [
       "2"
      ]
     },
     "execution_count": 23,
     "metadata": {},
     "output_type": "execute_result"
    }
   ],
   "source": [
    "matriz.argmax() #también existe la función argmin()"
   ]
  },
  {
   "cell_type": "code",
   "execution_count": 24,
   "id": "843c3408",
   "metadata": {},
   "outputs": [
    {
     "data": {
      "text/plain": [
       "1"
      ]
     },
     "execution_count": 24,
     "metadata": {},
     "output_type": "execute_result"
    }
   ],
   "source": [
    "arr.min()"
   ]
  },
  {
   "cell_type": "code",
   "execution_count": 25,
   "id": "b716f436",
   "metadata": {},
   "outputs": [
    {
     "data": {
      "text/plain": [
       "5"
      ]
     },
     "execution_count": 25,
     "metadata": {},
     "output_type": "execute_result"
    }
   ],
   "source": [
    "arr.ptp() #me da la diferencia entre el pico max y el min, me da una idea de la distribución de los valores de un array"
   ]
  },
  {
   "cell_type": "code",
   "execution_count": 26,
   "id": "00dca116",
   "metadata": {},
   "outputs": [
    {
     "data": {
      "text/plain": [
       "array([5, 7, 2])"
      ]
     },
     "execution_count": 26,
     "metadata": {},
     "output_type": "execute_result"
    }
   ],
   "source": [
    "matriz.ptp(0) #me otorga la diferencia entre el pico max y el min de la matriz por columna (si reemplazo 0 por 1 obtengo la diferencia por fila)"
   ]
  },
  {
   "cell_type": "code",
   "execution_count": 27,
   "id": "72250e4d",
   "metadata": {},
   "outputs": [
    {
     "data": {
      "text/plain": [
       "3.0"
      ]
     },
     "execution_count": 27,
     "metadata": {},
     "output_type": "execute_result"
    }
   ],
   "source": [
    "np.percentile(arr, 50) #es el número que se encuentra en la mitad de los valores del array (coincide con la mediana)"
   ]
  },
  {
   "cell_type": "code",
   "execution_count": 28,
   "id": "d97600be",
   "metadata": {},
   "outputs": [
    {
     "data": {
      "text/plain": [
       "1.0"
      ]
     },
     "execution_count": 28,
     "metadata": {},
     "output_type": "execute_result"
    }
   ],
   "source": [
    "np.percentile(arr, 0) #el percentil 0 coincide con el min, el percentil 100 coincide con el max"
   ]
  },
  {
   "cell_type": "code",
   "execution_count": 31,
   "id": "17113457",
   "metadata": {},
   "outputs": [
    {
     "data": {
      "text/plain": [
       "array([[1, 1],\n",
       "       [2, 5],\n",
       "       [4, 6]])"
      ]
     },
     "execution_count": 31,
     "metadata": {},
     "output_type": "execute_result"
    }
   ],
   "source": [
    "arr.sort() #ordena los valores de menor a mayor de un array\n",
    "arr\n"
   ]
  },
  {
   "cell_type": "code",
   "execution_count": 33,
   "id": "ebe21559",
   "metadata": {},
   "outputs": [
    {
     "data": {
      "text/plain": [
       "3.0"
      ]
     },
     "execution_count": 33,
     "metadata": {},
     "output_type": "execute_result"
    }
   ],
   "source": [
    "np.median(arr) #me da la mediana"
   ]
  },
  {
   "cell_type": "code",
   "execution_count": 34,
   "id": "a548c28c",
   "metadata": {},
   "outputs": [
    {
     "data": {
      "text/plain": [
       "array([8., 3., 9.])"
      ]
     },
     "execution_count": 34,
     "metadata": {},
     "output_type": "execute_result"
    }
   ],
   "source": [
    "np.median(matriz, 0) #mediana de la matriz por columna (si cambio 0 por 1 me da de las filas)"
   ]
  },
  {
   "cell_type": "code",
   "execution_count": 35,
   "id": "1b0a5913",
   "metadata": {},
   "outputs": [
    {
     "data": {
      "text/plain": [
       "1.950783318453271"
      ]
     },
     "execution_count": 35,
     "metadata": {},
     "output_type": "execute_result"
    }
   ],
   "source": [
    "np.std(arr) #desviación estandar, este valor al cuadrado es la varianza"
   ]
  },
  {
   "cell_type": "code",
   "execution_count": 36,
   "id": "7b985731",
   "metadata": {},
   "outputs": [
    {
     "data": {
      "text/plain": [
       "3.805555555555556"
      ]
     },
     "execution_count": 36,
     "metadata": {},
     "output_type": "execute_result"
    }
   ],
   "source": [
    "np.var(arr) #varianza"
   ]
  },
  {
   "cell_type": "code",
   "execution_count": 37,
   "id": "da898e0b",
   "metadata": {},
   "outputs": [
    {
     "data": {
      "text/plain": [
       "3.1666666666666665"
      ]
     },
     "execution_count": 37,
     "metadata": {},
     "output_type": "execute_result"
    }
   ],
   "source": [
    "np.mean(arr) #media o promedio"
   ]
  },
  {
   "cell_type": "markdown",
   "id": "b087d0fc",
   "metadata": {},
   "source": [
    "### Concatenar dos arrays con distintas dimensiones"
   ]
  },
  {
   "cell_type": "code",
   "execution_count": 3,
   "id": "5a871926",
   "metadata": {},
   "outputs": [],
   "source": [
    "a = np.array([[1,2], [3,4]])\n",
    "b = np.array([5,6])"
   ]
  },
  {
   "cell_type": "code",
   "execution_count": 18,
   "id": "acef7349",
   "metadata": {},
   "outputs": [
    {
     "name": "stdout",
     "output_type": "stream",
     "text": [
      "[[1 2]\n",
      " [3 4]]\n"
     ]
    }
   ],
   "source": [
    "print(a)\n"
   ]
  },
  {
   "cell_type": "code",
   "execution_count": 19,
   "id": "6ca61551",
   "metadata": {},
   "outputs": [
    {
     "name": "stdout",
     "output_type": "stream",
     "text": [
      "[[5 6]]\n"
     ]
    }
   ],
   "source": [
    "print(b)"
   ]
  },
  {
   "cell_type": "code",
   "execution_count": 6,
   "id": "6ced849e",
   "metadata": {},
   "outputs": [
    {
     "name": "stdout",
     "output_type": "stream",
     "text": [
      "2\n",
      "1\n"
     ]
    }
   ],
   "source": [
    "print(a.ndim)\n",
    "print(b.ndim)"
   ]
  },
  {
   "cell_type": "code",
   "execution_count": 10,
   "id": "0b19d58f",
   "metadata": {},
   "outputs": [
    {
     "name": "stdout",
     "output_type": "stream",
     "text": [
      "[[5 6]] 2\n"
     ]
    }
   ],
   "source": [
    "#tengo que llevar el array b a dos dimensiones para poder concatenarlo con el a\n",
    "\n",
    "b = np.expand_dims(np.array(b), axis = 0)\n",
    "print(b, b.ndim)"
   ]
  },
  {
   "cell_type": "code",
   "execution_count": 11,
   "id": "04ce5bee",
   "metadata": {},
   "outputs": [
    {
     "data": {
      "text/plain": [
       "array([[1, 2],\n",
       "       [3, 4],\n",
       "       [5, 6]])"
      ]
     },
     "execution_count": 11,
     "metadata": {},
     "output_type": "execute_result"
    }
   ],
   "source": [
    "np.concatenate((a,b), axis=0) #concateno el array a y b por el axis 0"
   ]
  },
  {
   "cell_type": "code",
   "execution_count": 15,
   "id": "1331447f",
   "metadata": {},
   "outputs": [
    {
     "data": {
      "text/plain": [
       "array([[1, 2],\n",
       "       [3, 4]])"
      ]
     },
     "execution_count": 15,
     "metadata": {},
     "output_type": "execute_result"
    }
   ],
   "source": [
    "a"
   ]
  },
  {
   "cell_type": "code",
   "execution_count": 13,
   "id": "6d82ca8d",
   "metadata": {},
   "outputs": [
    {
     "data": {
      "text/plain": [
       "array([[5, 6]])"
      ]
     },
     "execution_count": 13,
     "metadata": {},
     "output_type": "execute_result"
    }
   ],
   "source": [
    "#qué pasa si quisiera concatenerla por el axis = 1?\n",
    "#en este caso debería hacer un reshape de b o bien podría hacer la traspuesta de b con b.T\n",
    "b"
   ]
  },
  {
   "cell_type": "code",
   "execution_count": 14,
   "id": "b583706d",
   "metadata": {},
   "outputs": [
    {
     "data": {
      "text/plain": [
       "array([[5],\n",
       "       [6]])"
      ]
     },
     "execution_count": 14,
     "metadata": {},
     "output_type": "execute_result"
    }
   ],
   "source": [
    "b.T"
   ]
  },
  {
   "cell_type": "code",
   "execution_count": 16,
   "id": "674fc8f5",
   "metadata": {},
   "outputs": [
    {
     "data": {
      "text/plain": [
       "array([[1, 2, 5],\n",
       "       [3, 4, 6]])"
      ]
     },
     "execution_count": 16,
     "metadata": {},
     "output_type": "execute_result"
    }
   ],
   "source": [
    "np.concatenate((a,b.T), axis=1)"
   ]
  },
  {
   "cell_type": "markdown",
   "id": "291b00ab",
   "metadata": {},
   "source": [
    "### Copy 📝\n",
    ".copy() nos permite copiar un array de NumPy en otra variable de tal forma que al modificar el nuevo array los cambios no se vean reflejados en array original."
   ]
  },
  {
   "cell_type": "code",
   "execution_count": 20,
   "id": "e67281d3",
   "metadata": {},
   "outputs": [
    {
     "data": {
      "text/plain": [
       "array([ 0,  1,  2,  3,  4,  5,  6,  7,  8,  9, 10])"
      ]
     },
     "execution_count": 20,
     "metadata": {},
     "output_type": "execute_result"
    }
   ],
   "source": [
    "arr = np.arange(0,11)\n",
    "arr"
   ]
  },
  {
   "cell_type": "code",
   "execution_count": 21,
   "id": "20708bc5",
   "metadata": {},
   "outputs": [
    {
     "data": {
      "text/plain": [
       "array([0, 1, 2, 3, 4, 5])"
      ]
     },
     "execution_count": 21,
     "metadata": {},
     "output_type": "execute_result"
    }
   ],
   "source": [
    "part_of_arr = arr[0:6] #cuando definí este array lo hice en base al arr original, \n",
    "#por lo tanto cuando yo modifique algo de este objeto también se va a modificar el objeto padre\n",
    "part_of_arr"
   ]
  },
  {
   "cell_type": "code",
   "execution_count": 22,
   "id": "6a255ae4",
   "metadata": {},
   "outputs": [
    {
     "data": {
      "text/plain": [
       "array([0, 0, 0, 0, 0, 0])"
      ]
     },
     "execution_count": 22,
     "metadata": {},
     "output_type": "execute_result"
    }
   ],
   "source": [
    "#por ejemplo si quiero cambiar todos los valores a 0 de part_of_arr\n",
    "part_of_arr[:] = 0\n",
    "part_of_arr"
   ]
  },
  {
   "cell_type": "code",
   "execution_count": 23,
   "id": "56b6cb53",
   "metadata": {},
   "outputs": [
    {
     "data": {
      "text/plain": [
       "array([ 0,  0,  0,  0,  0,  0,  6,  7,  8,  9, 10])"
      ]
     },
     "execution_count": 23,
     "metadata": {},
     "output_type": "execute_result"
    }
   ],
   "source": [
    "arr #llamo al objeto padre y veo que lo que hice en part_of arr me modificó los datos originales en arr"
   ]
  },
  {
   "cell_type": "code",
   "execution_count": 24,
   "id": "44c56b4e",
   "metadata": {},
   "outputs": [
    {
     "data": {
      "text/plain": [
       "array([ 0,  0,  0,  0,  0,  0,  6,  7,  8,  9, 10])"
      ]
     },
     "execution_count": 24,
     "metadata": {},
     "output_type": "execute_result"
    }
   ],
   "source": [
    "#para evitar esto existe el comando copy\n",
    "arr_copy = arr.copy()\n",
    "arr_copy"
   ]
  },
  {
   "cell_type": "code",
   "execution_count": 25,
   "id": "f5669d84",
   "metadata": {},
   "outputs": [
    {
     "data": {
      "text/plain": [
       "array([0, 0, 0, 0, 0, 0, 0, 0, 0, 0, 0])"
      ]
     },
     "execution_count": 25,
     "metadata": {},
     "output_type": "execute_result"
    }
   ],
   "source": [
    "arr_copy[:] = 0 \n",
    "arr_copy"
   ]
  },
  {
   "cell_type": "code",
   "execution_count": 26,
   "id": "11dbe485",
   "metadata": {},
   "outputs": [
    {
     "data": {
      "text/plain": [
       "array([ 0,  0,  0,  0,  0,  0,  6,  7,  8,  9, 10])"
      ]
     },
     "execution_count": 26,
     "metadata": {},
     "output_type": "execute_result"
    }
   ],
   "source": [
    "arr #en este caso el objeto padre no quedó afectado por los cambios en arr_copy"
   ]
  },
  {
   "cell_type": "markdown",
   "id": "e0ddde37",
   "metadata": {},
   "source": [
    "### Condiciones"
   ]
  },
  {
   "cell_type": "code",
   "execution_count": 31,
   "id": "12ccfd3b",
   "metadata": {},
   "outputs": [
    {
     "data": {
      "text/plain": [
       "array([ 1,  2,  3,  4,  5,  6,  7,  8,  9, 10], dtype=int8)"
      ]
     },
     "execution_count": 31,
     "metadata": {},
     "output_type": "execute_result"
    }
   ],
   "source": [
    "arr_ = np.linspace(1,10, 10, dtype = \"int8\")\n",
    "arr_"
   ]
  },
  {
   "cell_type": "code",
   "execution_count": 32,
   "id": "ef138402",
   "metadata": {},
   "outputs": [
    {
     "data": {
      "text/plain": [
       "array([False, False, False, False, False,  True,  True,  True,  True,\n",
       "        True])"
      ]
     },
     "execution_count": 32,
     "metadata": {},
     "output_type": "execute_result"
    }
   ],
   "source": [
    "arr_mayor5 = arr_ > 5\n",
    "arr_mayor5"
   ]
  },
  {
   "cell_type": "code",
   "execution_count": 33,
   "id": "80056156",
   "metadata": {},
   "outputs": [
    {
     "data": {
      "text/plain": [
       "array([ 6,  7,  8,  9, 10], dtype=int8)"
      ]
     },
     "execution_count": 33,
     "metadata": {},
     "output_type": "execute_result"
    }
   ],
   "source": [
    "arr_[arr_mayor5] #me permite extraer del array los valores mayores a 5 tal como especifica la condicion"
   ]
  },
  {
   "cell_type": "code",
   "execution_count": 36,
   "id": "a8f1ef92",
   "metadata": {},
   "outputs": [
    {
     "data": {
      "text/plain": [
       "array([ 1,  2,  3,  4,  5, 99, 99, 99, 99, 99], dtype=int8)"
      ]
     },
     "execution_count": 36,
     "metadata": {},
     "output_type": "execute_result"
    }
   ],
   "source": [
    "arr_[arr_ > 5] = 99  #reemplacé por 99 todos los valores del array que eran mayores a 5\n",
    "arr_"
   ]
  },
  {
   "cell_type": "code",
   "execution_count": 40,
   "id": "65a45d1e",
   "metadata": {},
   "outputs": [
    {
     "data": {
      "text/plain": [
       "array([5], dtype=int8)"
      ]
     },
     "execution_count": 40,
     "metadata": {},
     "output_type": "execute_result"
    }
   ],
   "source": [
    "arr_[(arr_ > 4) & (arr_ < 9)]"
   ]
  },
  {
   "cell_type": "markdown",
   "id": "53fc443c",
   "metadata": {},
   "source": [
    "### 🔣Operaciones\n",
    "Existen diferentes operaciones que se pueden usar para los arrays de NumPy.\n",
    "\n"
   ]
  },
  {
   "cell_type": "code",
   "execution_count": 42,
   "id": "922f05a9",
   "metadata": {},
   "outputs": [],
   "source": [
    "arr = np.arange(0,10)\n",
    "arr2 = arr.copy()"
   ]
  },
  {
   "cell_type": "code",
   "execution_count": 47,
   "id": "c5a0bf67",
   "metadata": {},
   "outputs": [
    {
     "data": {
      "text/plain": [
       "array([0, 1, 2, 3, 4, 5, 6, 7, 8, 9])"
      ]
     },
     "execution_count": 47,
     "metadata": {},
     "output_type": "execute_result"
    }
   ],
   "source": [
    "arr2"
   ]
  },
  {
   "cell_type": "code",
   "execution_count": 46,
   "id": "fb5e8c36",
   "metadata": {},
   "outputs": [
    {
     "data": {
      "text/plain": [
       "array([ 0,  2,  4,  6,  8, 10, 12, 14, 16, 18])"
      ]
     },
     "execution_count": 46,
     "metadata": {},
     "output_type": "execute_result"
    }
   ],
   "source": [
    "arr2 * 2"
   ]
  },
  {
   "cell_type": "code",
   "execution_count": 48,
   "id": "542b5d8f",
   "metadata": {},
   "outputs": [
    {
     "data": {
      "text/plain": [
       "array([0, 0, 0, 0, 0, 0, 0, 0, 0, 0])"
      ]
     },
     "execution_count": 48,
     "metadata": {},
     "output_type": "execute_result"
    }
   ],
   "source": [
    "arr - arr2"
   ]
  },
  {
   "cell_type": "code",
   "execution_count": 49,
   "id": "2187cb54",
   "metadata": {},
   "outputs": [
    {
     "data": {
      "text/plain": [
       "array([ 0,  2,  4,  6,  8, 10, 12, 14, 16, 18])"
      ]
     },
     "execution_count": 49,
     "metadata": {},
     "output_type": "execute_result"
    }
   ],
   "source": [
    "arr + arr2"
   ]
  },
  {
   "cell_type": "markdown",
   "id": "4618f209",
   "metadata": {},
   "source": [
    "Una operación importante es la de punto por punto, aquí dos formas de hacerla:"
   ]
  },
  {
   "cell_type": "code",
   "execution_count": 43,
   "id": "7bbeeee4",
   "metadata": {},
   "outputs": [
    {
     "data": {
      "text/plain": [
       "array([[0, 1, 2, 3, 4],\n",
       "       [5, 6, 7, 8, 9]])"
      ]
     },
     "execution_count": 43,
     "metadata": {},
     "output_type": "execute_result"
    }
   ],
   "source": [
    "matriz = arr.reshape(2,5)\n",
    "matriz2 = matriz.copy()\n",
    "matriz"
   ]
  },
  {
   "cell_type": "code",
   "execution_count": 44,
   "id": "432842ea",
   "metadata": {},
   "outputs": [
    {
     "data": {
      "text/plain": [
       "array([[ 30,  80],\n",
       "       [ 80, 255]])"
      ]
     },
     "execution_count": 44,
     "metadata": {},
     "output_type": "execute_result"
    }
   ],
   "source": [
    "np.matmul(matriz, matriz2.T)\n"
   ]
  },
  {
   "cell_type": "code",
   "execution_count": 45,
   "id": "8aeb3c75",
   "metadata": {},
   "outputs": [
    {
     "data": {
      "text/plain": [
       "array([[ 30,  80],\n",
       "       [ 80, 255]])"
      ]
     },
     "execution_count": 45,
     "metadata": {},
     "output_type": "execute_result"
    }
   ],
   "source": [
    "matriz @ matriz2.T"
   ]
  },
  {
   "cell_type": "code",
   "execution_count": null,
   "id": "6738a697",
   "metadata": {},
   "outputs": [],
   "source": []
  }
 ],
 "metadata": {
  "kernelspec": {
   "display_name": "Python 3.10.1 64-bit",
   "language": "python",
   "name": "python3"
  },
  "language_info": {
   "codemirror_mode": {
    "name": "ipython",
    "version": 3
   },
   "file_extension": ".py",
   "mimetype": "text/x-python",
   "name": "python",
   "nbconvert_exporter": "python",
   "pygments_lexer": "ipython3",
   "version": "3.10.1"
  },
  "vscode": {
   "interpreter": {
    "hash": "c1112efaf299c976dacdc0ab56b5e578ae90991093dfb2a233e8a64c3396a46c"
   }
  }
 },
 "nbformat": 4,
 "nbformat_minor": 5
}

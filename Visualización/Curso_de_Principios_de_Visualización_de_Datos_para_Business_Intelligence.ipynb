{
 "cells": [
  {
   "cell_type": "markdown",
   "id": "e81de02b",
   "metadata": {},
   "source": [
    "### ¿Qué es la visualización de datos?\n",
    "\n",
    "El input: que es donde se encuentran los datos ya sea que estén organizados o no.\n",
    "Output: es la presentación de los datos de una manera visual para ayudar a retener la información.\n",
    "\n",
    "La visualización de datos sirve para reconocer patrones o encontrar más información para investigar.\n",
    "\n",
    "Los mapas, los ábacos, son ejemplos de visualización de datos.\n",
    "\n",
    "Utilizando la visualización de datos podemos organizar y mejorar el aprendizaje de datos en la era de la información.\n",
    "\n",
    "Artículo de Florence Nightingale: https://historia.nationalgeographic.com.es/a/florence-nightingale-heroina-hospitales_14173\n",
    "\n"
   ]
  },
  {
   "cell_type": "markdown",
   "id": "d332ad01",
   "metadata": {},
   "source": [
    "### Carga cognitiva\n",
    "Es el esfuerzo que tenemos que hacer para poder retener la información. A mayor carga cognitiva mayor esfuerzo tenemos que hacer para retener la información y visceversa.\n",
    "Existen distintos métodos que sirven para disminuir la carga cognitiva y que lo que queremos transmitir llegue a la audiencia\n",
    "\n",
    "La importancia de la visualización de datos se da por la dificultad que tienen los humanos de retener información no estructurada, por lo cual utilizamos patrones o distintos métodos de percepción visual que nos permiten retener de una forma mas sencilla la información que se nos esta presentando.\n",
    "\n",
    "\"La visualización te da respuesta a preguntas que no sabías que tenías\" Ben Schneiderman\n",
    "\n",
    "https://visme.co/blog/best-data-visualizations/\n",
    "\n",
    "### Buenas prácticas:\n",
    "1 - Definir una audencia y motivo (utilizar su lenguaje)\n",
    "2 - Utilizar la percepción visual para bajar la carga cognitiva\n",
    "3 - Estandarizar (usar siempre las mismas medidas y no cortar los ejes)\n",
    "4 - Evitar imprimir sesgos personales (NO al Cherry-Picking)\n",
    "5 - Simplificar pero sin recortar\n",
    "6 - Recordar principios de Gestalt\n",
    "\n",
    "Relacionamos datos que están próximos, o con la misma forma o mismo grupo\n",
    "Entendemos que los datos en proximidad forman un patrón continuo\n",
    "\n",
    "### principios de Gestalt\n",
    "En este link: https://www.toptal.com/designers/ui/gestalt-principles-of-design#:~:text=The%20classic%20principles%20of%20the,been%20added%20in%20recent%20years.\n",
    "aparecen los principios de Gestalt, además de imágenes de ejemplo y una descripción muy detallada de cada uno. Mi pequeño resumen de los 7 principios (El séptimo es un poco más nuevo) es este:\n",
    "\n",
    "1. Similitud: Como seres humanos inconscientemente agrupamos cosas visualmente, generalmente esto suele estar asociado a un color, una forma o un tamaño.\n",
    "\n",
    "2. Continuación: Seguiremos los caminos más suaves (O más predecibles/lógicos) al ver diferentes elementos cruzarse, independientemente de como estuvieran hechos.\n",
    "\n",
    "3. Cierre: El cerebro, a partir de información/dibujos incompletos, automáticamente los completa, como trazando una linea mental que lo asocie directamente con algo\n",
    "ya vivido o visto.\n",
    "\n",
    "4. Proximidad: Dependiendo de la distancia o cercanía de una cantidad de objetos el cerebro asocia o agrupa distintos elementos como iguales por su proximidad.\n",
    "\n",
    "5. Figura/Fondo: Es aquel que aprovecha la forma en la que el cerebro procesa los espacios faltantes, creando dos objetos o elementos en una imágen por el contraste\n",
    "entre ambos elementos.\n",
    "\n",
    "6. Simetría y orden: El cerebro procesará las formas ambiguas de la manera más simple posible.\n",
    "\n",
    "7. Destino común: Todos los elementos que vayan o apunten en una misma dirección serán agrupados como uno solo. Ej: Bandada de pájaros,\n",
    "\n",
    "https://static.platzi.com/media/user_upload/principios_gestalt-3507b27a-0917-47e1-9883-a5f9af19541e.jpg\n",
    "\n",
    "\n",
    "https://www.youtube.com/watch?v=E91bGT9BjYk\n",
    "\n",
    "### Caso Target: conflictos de ética en la ciencia de datos y Big Data\n",
    "\n",
    "https://elpais.com/elpais/2015/08/11/icon/1439304143_858615.html\n",
    "\n",
    "https://www.technologyreview.es/s/10643/matar-un-anciano-o-un-bebe-la-etica-del-coche-autonomo-depende-del-pais\n"
   ]
  }
 ],
 "metadata": {
  "kernelspec": {
   "display_name": "Python 3.8.12 ('dhdsblend2021')",
   "language": "python",
   "name": "python3"
  },
  "language_info": {
   "codemirror_mode": {
    "name": "ipython",
    "version": 3
   },
   "file_extension": ".py",
   "mimetype": "text/x-python",
   "name": "python",
   "nbconvert_exporter": "python",
   "pygments_lexer": "ipython3",
   "version": "3.8.12"
  },
  "vscode": {
   "interpreter": {
    "hash": "a557a67c14b5dc3fb9ae0d6714610b023cee981344371245cd13e4df99b25cc4"
   }
  }
 },
 "nbformat": 4,
 "nbformat_minor": 5
}
